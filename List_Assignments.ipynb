{
 "cells": [
  {
   "cell_type": "code",
   "execution_count": 12,
   "id": "e20445c2",
   "metadata": {},
   "outputs": [
    {
     "name": "stdout",
     "output_type": "stream",
     "text": [
      "[1, 2, 3, 4, 'A', 'B']\n",
      "2\n",
      "[1, 2]\n"
     ]
    }
   ],
   "source": [
    "lst=[1,2,3,4,'A','B']\n",
    "# Display all elements in list\n",
    "print(lst)\n",
    "#Second index in list\n",
    "print(lst[1])\n",
    "# Display from first index and second index\n",
    "print(lst[0:2])"
   ]
  },
  {
   "cell_type": "markdown",
   "id": "acf00d91",
   "metadata": {},
   "source": [
    "# Length of list "
   ]
  },
  {
   "cell_type": "code",
   "execution_count": 14,
   "id": "0b05b907",
   "metadata": {},
   "outputs": [
    {
     "name": "stdout",
     "output_type": "stream",
     "text": [
      "6\n"
     ]
    }
   ],
   "source": [
    "Len=len(lst)\n",
    "print(Len)"
   ]
  },
  {
   "cell_type": "markdown",
   "id": "8208a2ed",
   "metadata": {},
   "source": [
    "# Last item in list"
   ]
  },
  {
   "cell_type": "code",
   "execution_count": 22,
   "id": "6b489152",
   "metadata": {},
   "outputs": [
    {
     "name": "stdout",
     "output_type": "stream",
     "text": [
      "c\n",
      "[5, 7, 9, 3]\n"
     ]
    }
   ],
   "source": [
    "list1 = [\"a\", \"b\", \"c\"]\n",
    "list2 = [1, 5, 7, 9, 3]\n",
    "list3 = [True, False, False]\n",
    "print(list1[-1])\n",
    "# Display last 4 characters\n",
    "print(list2[-4:])"
   ]
  },
  {
   "cell_type": "code",
   "execution_count": 24,
   "id": "0544b84f",
   "metadata": {},
   "outputs": [
    {
     "name": "stdout",
     "output_type": "stream",
     "text": [
      "['c']\n",
      "['a', 'b']\n"
     ]
    }
   ],
   "source": [
    "print(list1[2:]) # Display from 2 index \n",
    "print(list1[:2]) # Display 0 to 2nd index"
   ]
  },
  {
   "cell_type": "markdown",
   "id": "d3c26582",
   "metadata": {},
   "source": [
    "# Change the list item:"
   ]
  },
  {
   "cell_type": "code",
   "execution_count": 25,
   "id": "bb00d96b",
   "metadata": {},
   "outputs": [
    {
     "name": "stdout",
     "output_type": "stream",
     "text": [
      "[1, -2, 3, 4, 5]\n"
     ]
    }
   ],
   "source": [
    "list4=[1,2,3,4,5]\n",
    "list4[1]=-2 # Chnage the second element\n",
    "print(list4)"
   ]
  },
  {
   "cell_type": "code",
   "execution_count": 27,
   "id": "82184173",
   "metadata": {},
   "outputs": [
    {
     "name": "stdout",
     "output_type": "stream",
     "text": [
      "[1, 2, -3, -4, -5, 6]\n"
     ]
    }
   ],
   "source": [
    "list5=[1,2,3,4,5,6]\n",
    "list5[2:5]=[-3,-4,-5] # Change elements from 2nd to 4th\n",
    "print(list5)\n"
   ]
  },
  {
   "cell_type": "code",
   "execution_count": 28,
   "id": "80d69ffc",
   "metadata": {},
   "outputs": [
    {
     "name": "stdout",
     "output_type": "stream",
     "text": [
      "[1, 2, -3, -4, -5]\n"
     ]
    }
   ],
   "source": [
    "list6=[1,2,3,4,5,6]\n",
    "list6[2:6]=[-3,-4,-5] # Change elements from 2nd to 4th\n",
    "print(list6)"
   ]
  },
  {
   "cell_type": "code",
   "execution_count": 30,
   "id": "42aaffba",
   "metadata": {},
   "outputs": [
    {
     "name": "stdout",
     "output_type": "stream",
     "text": [
      "[1, 2, -2]\n"
     ]
    }
   ],
   "source": [
    "list7=[1,2,3,4,5,6]\n",
    "list7[2:6]=[-2] # Change elements from 2nd with one value\n",
    "print(list7)"
   ]
  },
  {
   "cell_type": "markdown",
   "id": "d8ce1323",
   "metadata": {},
   "source": [
    "# Append in list "
   ]
  },
  {
   "cell_type": "code",
   "execution_count": 31,
   "id": "120f9975",
   "metadata": {},
   "outputs": [
    {
     "name": "stdout",
     "output_type": "stream",
     "text": [
      "['apple', 'banana', 'cherry', 'orange']\n"
     ]
    }
   ],
   "source": [
    "listfruit = [\"apple\", \"banana\", \"cherry\"]\n",
    "listfruit.append(\"orange\") # Append add the elements in last by default\n",
    "print(listfruit)"
   ]
  },
  {
   "cell_type": "code",
   "execution_count": 32,
   "id": "7b4e8069",
   "metadata": {},
   "outputs": [
    {
     "name": "stdout",
     "output_type": "stream",
     "text": [
      "['apple', 'orange', 'banana', 'cherry']\n"
     ]
    }
   ],
   "source": [
    "# Add elements in particular position use insert \n",
    "listfruit1 = [\"apple\", \"banana\", \"cherry\"]\n",
    "listfruit1.insert(1,\"orange\") \n",
    "print(listfruit1)"
   ]
  },
  {
   "cell_type": "code",
   "execution_count": 34,
   "id": "aa5bfd04",
   "metadata": {},
   "outputs": [
    {
     "name": "stdout",
     "output_type": "stream",
     "text": [
      "['apple', 'banana', 'cherry', 'mango', 'pineapple', 'papaya']\n"
     ]
    }
   ],
   "source": [
    "thislist3 = [\"apple\", \"banana\", \"cherry\"]\n",
    "tropical4 = [\"mango\", \"pineapple\", \"papaya\"]\n",
    "thislist3.extend(tropical4) # Extend Keyword used to merge 2 lists\n",
    "print(thislist3)"
   ]
  },
  {
   "cell_type": "markdown",
   "id": "6fc458e7",
   "metadata": {},
   "source": [
    "# Remove Specified Item"
   ]
  },
  {
   "cell_type": "code",
   "execution_count": 36,
   "id": "3110e203",
   "metadata": {},
   "outputs": [
    {
     "name": "stdout",
     "output_type": "stream",
     "text": [
      "[1, 3, 4, 5]\n"
     ]
    }
   ],
   "source": [
    "list10=[1,2,3,4,5]\n",
    "list10.remove(2) # removed matched values\n",
    "print(list10)"
   ]
  },
  {
   "cell_type": "code",
   "execution_count": 37,
   "id": "41ed70bb",
   "metadata": {},
   "outputs": [
    {
     "name": "stdout",
     "output_type": "stream",
     "text": [
      "[1, 2, 3, 4, 5]\n"
     ]
    }
   ],
   "source": [
    "list11=[1,2,2,3,4,5]\n",
    "list11.remove(2) # removed first matched values\n",
    "print(list11)"
   ]
  },
  {
   "cell_type": "code",
   "execution_count": 40,
   "id": "18c85747",
   "metadata": {},
   "outputs": [
    {
     "name": "stdout",
     "output_type": "stream",
     "text": [
      "[1, 2, 4, 5]\n"
     ]
    }
   ],
   "source": [
    "list12=[1,2,3,4,5]\n",
    "list12.pop(2) # removed second index element\n",
    "print(list12)"
   ]
  },
  {
   "cell_type": "code",
   "execution_count": 41,
   "id": "ded2c724",
   "metadata": {},
   "outputs": [
    {
     "name": "stdout",
     "output_type": "stream",
     "text": [
      "[1, 2, 3, 4]\n"
     ]
    }
   ],
   "source": [
    "list12=[1,2,3,4,5]\n",
    "list12.pop() # by default remove last index\n",
    "print(list12)"
   ]
  },
  {
   "cell_type": "code",
   "execution_count": 44,
   "id": "15d1babe",
   "metadata": {},
   "outputs": [
    {
     "name": "stdout",
     "output_type": "stream",
     "text": [
      "[1, 2, 3, 4, 5]\n"
     ]
    },
    {
     "ename": "NameError",
     "evalue": "name 'list13' is not defined",
     "output_type": "error",
     "traceback": [
      "\u001b[1;31m---------------------------------------------------------------------------\u001b[0m",
      "\u001b[1;31mNameError\u001b[0m                                 Traceback (most recent call last)",
      "Cell \u001b[1;32mIn[44], line 4\u001b[0m\n\u001b[0;32m      2\u001b[0m \u001b[38;5;28mprint\u001b[39m(list13)\n\u001b[0;32m      3\u001b[0m \u001b[38;5;28;01mdel\u001b[39;00m list13 \u001b[38;5;66;03m# Delete complete list\u001b[39;00m\n\u001b[1;32m----> 4\u001b[0m \u001b[38;5;28mprint\u001b[39m(list13)\n",
      "\u001b[1;31mNameError\u001b[0m: name 'list13' is not defined"
     ]
    }
   ],
   "source": [
    "list13=[1,2,3,4,5]\n",
    "print(list13)\n",
    "del list13 # Delete complete list\n",
    "print(list13)"
   ]
  },
  {
   "cell_type": "code",
   "execution_count": 45,
   "id": "09cf2ecc",
   "metadata": {},
   "outputs": [
    {
     "name": "stdout",
     "output_type": "stream",
     "text": [
      "[1, 2, 3, 4, 5]\n",
      "[]\n"
     ]
    }
   ],
   "source": [
    "list14=[1,2,3,4,5]\n",
    "print(list14)\n",
    "list14.clear() # clear the complete list\n",
    "print(list14)"
   ]
  },
  {
   "cell_type": "code",
   "execution_count": null,
   "id": "1a85bd9b",
   "metadata": {},
   "outputs": [],
   "source": []
  }
 ],
 "metadata": {
  "kernelspec": {
   "display_name": "Python 3 (ipykernel)",
   "language": "python",
   "name": "python3"
  },
  "language_info": {
   "codemirror_mode": {
    "name": "ipython",
    "version": 3
   },
   "file_extension": ".py",
   "mimetype": "text/x-python",
   "name": "python",
   "nbconvert_exporter": "python",
   "pygments_lexer": "ipython3",
   "version": "3.11.5"
  }
 },
 "nbformat": 4,
 "nbformat_minor": 5
}
